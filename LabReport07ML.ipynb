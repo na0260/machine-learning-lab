{
  "nbformat": 4,
  "nbformat_minor": 0,
  "metadata": {
    "colab": {
      "provenance": [],
      "authorship_tag": "ABX9TyM0CfDF7i3t9pn/6V3THJh3",
      "include_colab_link": true
    },
    "kernelspec": {
      "name": "python3",
      "display_name": "Python 3"
    },
    "language_info": {
      "name": "python"
    }
  },
  "cells": [
    {
      "cell_type": "markdown",
      "metadata": {
        "id": "view-in-github",
        "colab_type": "text"
      },
      "source": [
        "<a href=\"https://colab.research.google.com/github/na0260/machine-learning-lab/blob/main/LabReport07ML.ipynb\" target=\"_parent\"><img src=\"https://colab.research.google.com/assets/colab-badge.svg\" alt=\"Open In Colab\"/></a>"
      ]
    },
    {
      "cell_type": "code",
      "execution_count": null,
      "metadata": {
        "colab": {
          "base_uri": "https://localhost:8080/"
        },
        "id": "G_D0zxkDM2xq",
        "outputId": "96393439-d127-4389-90df-791a238001a0"
      },
      "outputs": [
        {
          "output_type": "stream",
          "name": "stdout",
          "text": [
            "Score:  1.0\n",
            "Predictions:  [0 1 1 0]\n",
            "Expected:  [0 1 1 0]\n"
          ]
        }
      ],
      "source": [
        "import numpy as np\n",
        "import sklearn.neural_network\n",
        "\n",
        "xs = np.array([\n",
        "    0,0,\n",
        "    0,1,\n",
        "    1,0,\n",
        "    1,1\n",
        "]).reshape(4,2)\n",
        "\n",
        "ys = np.array([0,1,1,0]).reshape(4,)\n",
        "model = sklearn.neural_network.MLPClassifier(\n",
        "    activation='relu',\n",
        "    max_iter=15000,\n",
        "    learning_rate_init=0.01,\n",
        "    hidden_layer_sizes=(5))\n",
        "model.fit(xs, ys)\n",
        "\n",
        "print('Score: ', model.score(xs,ys))\n",
        "print('Predictions: ', model.predict(xs))\n",
        "print('Expected: ', np.array([0,1,1,0]))"
      ]
    }
  ]
}