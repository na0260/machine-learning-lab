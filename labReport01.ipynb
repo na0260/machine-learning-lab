{
  "nbformat": 4,
  "nbformat_minor": 0,
  "metadata": {
    "colab": {
      "provenance": [],
      "authorship_tag": "ABX9TyNWonMsUBSTd9Qkf5uPiqBd",
      "include_colab_link": true
    },
    "kernelspec": {
      "name": "python3",
      "display_name": "Python 3"
    },
    "language_info": {
      "name": "python"
    }
  },
  "cells": [
    {
      "cell_type": "markdown",
      "metadata": {
        "id": "view-in-github",
        "colab_type": "text"
      },
      "source": [
        "<a href=\"https://colab.research.google.com/github/na0260/machineLearningLab/blob/main/labReport01.ipynb\" target=\"_parent\"><img src=\"https://colab.research.google.com/assets/colab-badge.svg\" alt=\"Open In Colab\"/></a>"
      ]
    },
    {
      "cell_type": "markdown",
      "source": [
        "## **Lab report 01**"
      ],
      "metadata": {
        "id": "V_TdoQiPNvjf"
      }
    },
    {
      "cell_type": "markdown",
      "source": [
        "**1. Char frequency**"
      ],
      "metadata": {
        "id": "0ax-btYIN2nB"
      }
    },
    {
      "cell_type": "code",
      "execution_count": null,
      "metadata": {
        "colab": {
          "base_uri": "https://localhost:8080/"
        },
        "id": "5ZbhPTpTLxLG",
        "outputId": "21152d7c-64d6-461e-fc4a-5efda4a76b5e"
      },
      "outputs": [
        {
          "output_type": "stream",
          "name": "stdout",
          "text": [
            "Enter a string: helloworld\n",
            "Output: 'h': 1 'e': 1 'l': 3 'o': 2 'w': 1 'r': 1 'd': 1 "
          ]
        }
      ],
      "source": [
        "input_string = input(\"Enter a string: \")\n",
        "\n",
        "char_frequency = {}\n",
        "\n",
        "for char in input_string:\n",
        "    if char in char_frequency:\n",
        "        char_frequency[char] += 1\n",
        "    else:\n",
        "        char_frequency[char] = 1\n",
        "\n",
        "print(\"Output:\", end=' ')\n",
        "for char, count in char_frequency.items():\n",
        "    print(f\"'{char}': {count}\", end=' ')"
      ]
    },
    {
      "cell_type": "markdown",
      "source": [
        "**2. Tax Calculator**"
      ],
      "metadata": {
        "id": "UT3LFmajN_Rr"
      }
    },
    {
      "cell_type": "code",
      "source": [
        "income = float(input(\"Enter your income: $\"))\n",
        "\n",
        "if income < 0:\n",
        "        print(\"Income cannot be negative.\")\n",
        "else:\n",
        "        if income <= 10000:\n",
        "            tax = income * 0.05\n",
        "        elif income <= 50000:\n",
        "            tax = 10000 * 0.05 + (income - 10000) * 0.10\n",
        "        elif income <= 100000:\n",
        "            tax = 10000 * 0.05 + 40000 * 0.10 + (income - 50000) * 0.20\n",
        "        else:\n",
        "            tax = 10000 * 0.05 + 40000 * 0.10 + 50000 * 0.20 + (income - 100000) * 0.30\n",
        "\n",
        "        print(\"Total tax amount: $\", format(tax, '.2f'))"
      ],
      "metadata": {
        "colab": {
          "base_uri": "https://localhost:8080/"
        },
        "id": "oq6NbEcUMVJK",
        "outputId": "914e9ef0-a296-46ff-d7f1-83dbd5319151"
      },
      "execution_count": null,
      "outputs": [
        {
          "output_type": "stream",
          "name": "stdout",
          "text": [
            "Enter your income: $199999\n",
            "Total tax amount: $ 44499.70\n"
          ]
        }
      ]
    }
  ]
}